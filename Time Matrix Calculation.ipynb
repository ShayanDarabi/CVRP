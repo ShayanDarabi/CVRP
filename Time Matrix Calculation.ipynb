{
 "cells": [
  {
   "cell_type": "code",
   "execution_count": null,
   "id": "2cd0e08c-d902-4db3-8a85-3f9881ed3b89",
   "metadata": {},
   "outputs": [],
   "source": [
    "import pandas as pd\n",
    "import requests\n",
    "\n",
    "df = pd.read_excel('C:/Users/user/Desktop/Test.xlsx')\n",
    "\n",
    "# The second col is latitude and the third col is longitude\n",
    "latitudes = df.iloc[:, 1]\n",
    "longitudes = df.iloc[:, -1]\n",
    "\n",
    "# Extract the labels column\n",
    "labels = df.iloc[:, 0]\n",
    "\n",
    "# Time matrix\n",
    "num_locations = len(df)\n",
    "time_matrix = [[0 for j in range(num_locations)] for i in range(num_locations)]\n",
    "\n",
    "# Matrix computation\n",
    "for i in range(num_locations):\n",
    "    for j in range(i+1, num_locations):\n",
    "        start_lat, start_lon = latitudes[i], longitudes[i]\n",
    "        end_lat, end_lon = latitudes[j], longitudes[j]\n",
    "        \n",
    "        # OpenStreetMap API\n",
    "        url = f\"https://router.project-osrm.org/route/v1/driving/{start_lon},{start_lat};{end_lon},{end_lat}?overview=false\"\n",
    "        response = requests.get(url)\n",
    "\n",
    "        # Time conversion\n",
    "        data = response.json()\n",
    "        driving_time = data['routes'][0]['duration']\n",
    "        \n",
    "        # Convert the driving time to minutes and store it in the matrix\n",
    "        driving_time_min = round(driving_time / 60, 2)\n",
    "        time_matrix[i][j] = driving_time_min\n",
    "        time_matrix[j][i] = driving_time_min\n",
    "\n",
    "# Save it into an Excel file\n",
    "time_df = pd.DataFrame(time_matrix, index=labels, columns=labels)\n",
    "time_df.to_excel('time_matrix.xlsx')"
   ]
  }
 ],
 "metadata": {
  "kernelspec": {
   "display_name": "Python 3 (ipykernel)",
   "language": "python",
   "name": "python3"
  },
  "language_info": {
   "codemirror_mode": {
    "name": "ipython",
    "version": 3
   },
   "file_extension": ".py",
   "mimetype": "text/x-python",
   "name": "python",
   "nbconvert_exporter": "python",
   "pygments_lexer": "ipython3",
   "version": "3.7.11"
  }
 },
 "nbformat": 4,
 "nbformat_minor": 5
}
